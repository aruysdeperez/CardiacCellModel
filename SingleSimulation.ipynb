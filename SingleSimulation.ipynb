{
 "cells": [
  {
   "cell_type": "code",
   "execution_count": null,
   "id": "4826374c-f6f5-4532-bd17-d59fc375f68d",
   "metadata": {},
   "outputs": [],
   "source": [
    "run CELL.ipynb"
   ]
  },
  {
   "cell_type": "code",
   "execution_count": null,
   "id": "3e964396-9c0d-467d-b261-4b6aee052d38",
   "metadata": {},
   "outputs": [],
   "source": [
    "#these are the parameters we must specify\n",
    "ionThresh = 0\n",
    "openThresh = [2,15]\n",
    "numCells = 7\n",
    "ionChans = [12,1]\n",
    "\n",
    "#these are the parameters that have preset values\n",
    "#can still change if desired\n",
    "#C = [25, 150, 25]\n",
    "#G = [0.133,0.015,0.133]\n",
    "#N = [2,12,2]\n",
    "#gapJunction = 1\n",
    "#theFilter = 0.01\n",
    "#NiGAP = 80\n",
    "#NiMARG = 4200\n",
    "#pokeHoleMARG = False\n",
    "\n",
    "#we want to vary gapJunction, so we'll substitute in the values\n",
    "#in the list below\n",
    "gJs = [0.0001,0.001,0.01,0.1,1]\n",
    "\n",
    "rateMultiplier = {'0.2':37.5,'0.01':15000}\n",
    "\n",
    "rates = []\n",
    "\n",
    "for gJ in gJs:\n",
    "    myModel = createModel(numCells, ionThresh, openThresh, ionChans, gapJunct = gJ)\n",
    "    depol = runModel(myModel)\n",
    "\n",
    "    fitcoeffs = np.round(np.polyfit(range(2,len(depol)), depol[1:-1], 1),3)\n",
    "    thePoly = np.poly1d(fitcoeffs)\n",
    "    theRate =  1/fitcoeffs[0]\n",
    "\n",
    "    rates.append(theRate*rateMultiplier[str(theFilter)])\n",
    "\n",
    "gJs = [0.1,1]\n",
    "rates = [2,4]\n",
    "figl = plt.figure()\n",
    "axl = figl.add_axes([0,0,1,1])\n",
    "axl.set_xlabel('This is the x-axis (Gap Junction Coefficients')\n",
    "axl.set_ylabel('This is the y-axis (Conduction Velocity (cm/s))')\n",
    "axl.set_title('This is the Title')\n",
    "axl.scatter(gJs, rates, label = 'Can Label Like This')\n",
    "axl.plot(gJs, rates)\n",
    "axl.legend()\n",
    "figl.savefig('GraphTitle.png',bbox_inches='tight')"
   ]
  }
 ],
 "metadata": {
  "kernelspec": {
   "display_name": "Python 3 (ipykernel)",
   "language": "python",
   "name": "python3"
  },
  "language_info": {
   "codemirror_mode": {
    "name": "ipython",
    "version": 3
   },
   "file_extension": ".py",
   "mimetype": "text/x-python",
   "name": "python",
   "nbconvert_exporter": "python",
   "pygments_lexer": "ipython3",
   "version": "3.12.2"
  }
 },
 "nbformat": 4,
 "nbformat_minor": 5
}
